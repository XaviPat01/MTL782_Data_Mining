{
  "nbformat": 4,
  "nbformat_minor": 0,
  "metadata": {
    "colab": {
      "provenance": [],
      "toc_visible": true,
      "include_colab_link": true
    },
    "kernelspec": {
      "name": "python3",
      "display_name": "Python 3"
    },
    "language_info": {
      "name": "python"
    },
    "gpuClass": "standard"
  },
  "cells": [
    {
      "cell_type": "markdown",
      "metadata": {
        "id": "view-in-github",
        "colab_type": "text"
      },
      "source": [
        "<a href=\"https://colab.research.google.com/github/XaviPat01/MTL782_Data_Mining/blob/main/MTL782_Assignment1_Q2.ipynb\" target=\"_parent\"><img src=\"https://colab.research.google.com/assets/colab-badge.svg\" alt=\"Open In Colab\"/></a>"
      ]
    },
    {
      "cell_type": "markdown",
      "source": [
        "# **MTL782: Assignment 1, Question 2**\n",
        "Members:\n",
        "- Saurabh Jha, 2020MT10845\n",
        "- Vishvesh Patel, 2020MT60896\n",
        "- Avi Patni, 2020MT60159\n"
      ],
      "metadata": {
        "id": "Z8EO258Cfv_D"
      }
    },
    {
      "cell_type": "markdown",
      "source": [
        "## Step 1: **Importing Necessary Libraries**"
      ],
      "metadata": {
        "id": "m2n8F_Q5h7jo"
      }
    },
    {
      "cell_type": "code",
      "source": [
        "!pip install scikit-mlm\n",
        "!pip install statistics"
      ],
      "metadata": {
        "colab": {
          "base_uri": "https://localhost:8080/"
        },
        "id": "MFmzwQ56ACrv",
        "outputId": "462abc99-7d8e-485c-dcf1-2750c3af1eac"
      },
      "execution_count": null,
      "outputs": [
        {
          "output_type": "stream",
          "name": "stdout",
          "text": [
            "Looking in indexes: https://pypi.org/simple, https://us-python.pkg.dev/colab-wheels/public/simple/\n",
            "Requirement already satisfied: scikit-mlm in /usr/local/lib/python3.8/dist-packages (0.1.1)\n",
            "Requirement already satisfied: fuzzy-c-means>=0.0.6 in /usr/local/lib/python3.8/dist-packages (from scikit-mlm) (1.6.3)\n",
            "Requirement already satisfied: scikit-learn>=0.21.0 in /usr/local/lib/python3.8/dist-packages (from scikit-mlm) (1.0.2)\n",
            "Requirement already satisfied: mrsr>=0.0.3 in /usr/local/lib/python3.8/dist-packages (from scikit-mlm) (0.1.0)\n",
            "Requirement already satisfied: numpy>=1.15.4 in /usr/local/lib/python3.8/dist-packages (from scikit-mlm) (1.22.4)\n",
            "Requirement already satisfied: scipy>=1.1.0 in /usr/local/lib/python3.8/dist-packages (from scikit-mlm) (1.7.3)\n",
            "Requirement already satisfied: tabulate<0.9.0,>=0.8.9 in /usr/local/lib/python3.8/dist-packages (from fuzzy-c-means>=0.0.6->scikit-mlm) (0.8.10)\n",
            "Requirement already satisfied: typer<0.4.0,>=0.3.2 in /usr/local/lib/python3.8/dist-packages (from fuzzy-c-means>=0.0.6->scikit-mlm) (0.3.2)\n",
            "Requirement already satisfied: pydantic<2.0.0,>=1.8.2 in /usr/local/lib/python3.8/dist-packages (from fuzzy-c-means>=0.0.6->scikit-mlm) (1.10.5)\n",
            "Requirement already satisfied: joblib>=0.11 in /usr/local/lib/python3.8/dist-packages (from scikit-learn>=0.21.0->scikit-mlm) (1.2.0)\n",
            "Requirement already satisfied: threadpoolctl>=2.0.0 in /usr/local/lib/python3.8/dist-packages (from scikit-learn>=0.21.0->scikit-mlm) (3.1.0)\n",
            "Requirement already satisfied: typing-extensions>=4.2.0 in /usr/local/lib/python3.8/dist-packages (from pydantic<2.0.0,>=1.8.2->fuzzy-c-means>=0.0.6->scikit-mlm) (4.5.0)\n",
            "Requirement already satisfied: click<7.2.0,>=7.1.1 in /usr/local/lib/python3.8/dist-packages (from typer<0.4.0,>=0.3.2->fuzzy-c-means>=0.0.6->scikit-mlm) (7.1.2)\n",
            "Looking in indexes: https://pypi.org/simple, https://us-python.pkg.dev/colab-wheels/public/simple/\n",
            "Requirement already satisfied: statistics in /usr/local/lib/python3.8/dist-packages (1.0.3.5)\n",
            "Requirement already satisfied: docutils>=0.3 in /usr/local/lib/python3.8/dist-packages (from statistics) (0.16)\n"
          ]
        }
      ]
    },
    {
      "cell_type": "code",
      "source": [
        "import matplotlib.pyplot as plt\n",
        "import pandas as pd\n",
        "import numpy as np\n",
        "import seaborn as sns\n",
        "\n",
        "from sklearn import metrics\n",
        "from sklearn.model_selection import train_test_split, StratifiedKFold\n",
        "from sklearn.tree import DecisionTreeClassifier, plot_tree\n",
        "from sklearn.pipeline import make_pipeline, Pipeline\n",
        "from sklearn.preprocessing import MinMaxScaler\n",
        "# from sklearn.naive_bayes import GaussianNB\n",
        "from sklearn.naive_bayes import MultinomialNB\n",
        "from sklearn.ensemble import RandomForestClassifier\n",
        "from sklearn.neighbors import KNeighborsClassifier, NearestNeighbors\n",
        "from sklearn.model_selection import GridSearchCV\n",
        "from sklearn.metrics._plot.confusion_matrix import ConfusionMatrixDisplay\n",
        "from sklearn.model_selection import cross_val_score\n",
        "from statistics import *\n",
        "from keras.datasets import mnist\n",
        "from sklearn.svm import SVC"
      ],
      "metadata": {
        "id": "PVfJKPNbgNyR"
      },
      "execution_count": null,
      "outputs": []
    },
    {
      "cell_type": "markdown",
      "source": [
        "## Step 2: **Load the MNIST Dataset**"
      ],
      "metadata": {
        "id": "Oi7A9RDQhyhF"
      }
    },
    {
      "cell_type": "code",
      "source": [
        "(X_train, y_train), (X_test, y_test) = mnist.load_data()"
      ],
      "metadata": {
        "id": "GeIUzwhriEbW"
      },
      "execution_count": null,
      "outputs": []
    },
    {
      "cell_type": "code",
      "source": [
        "print(\"Shape of training data\", X_train.shape)\n",
        "print(\"Shape of training labels\", y_train.shape)\n",
        "print(\"Shape of testing data\", X_test.shape)\n",
        "print(\"Shape os testing labels\", y_test.shape)"
      ],
      "metadata": {
        "id": "kh7wvFArBePv"
      },
      "execution_count": null,
      "outputs": []
    },
    {
      "cell_type": "code",
      "source": [
        "#Plotting the digits\n",
        "fig = plt.figure(figsize=(10,7))\n",
        "for i in range(45,60):\n",
        "  ax = fig.add_subplot(3,5,i-45+1)\n",
        "  ax.imshow(X_train[i],cmap=plt.get_cmap('gray'))\n",
        "  ax.set_title('Label: {y}'.format(y=y_train[i]))\n",
        "  plt.axis('off')"
      ],
      "metadata": {
        "id": "QUTTVFR6CN8L"
      },
      "execution_count": null,
      "outputs": []
    },
    {
      "cell_type": "markdown",
      "source": [
        "# Naive Bayes"
      ],
      "metadata": {
        "id": "U8H5SCT7_cfq"
      }
    },
    {
      "cell_type": "markdown",
      "source": [
        "To use Naive Bayes, we need to have a 2D Matrix as our input. Hence we needed to flatten X_train"
      ],
      "metadata": {
        "id": "IVngFudlHWxE"
      }
    },
    {
      "cell_type": "code",
      "source": [
        "nb_X_train = X_train.flatten().reshape(60000,784)\n",
        "nb_X_test = X_test.flatten().reshape(10000,784)"
      ],
      "metadata": {
        "id": "c_l3khaUFGUY"
      },
      "execution_count": null,
      "outputs": []
    },
    {
      "cell_type": "code",
      "source": [
        "nb = MultinomialNB()\n",
        "nb.fit(nb_X_train, y_train)\n",
        "y_predicted=nb.predict(nb_X_test)"
      ],
      "metadata": {
        "id": "-jl7rzu-Iocq"
      },
      "execution_count": null,
      "outputs": []
    },
    {
      "cell_type": "code",
      "source": [
        "print (\"Accuracy = {} %\".format(metrics.accuracy_score(y_test, y_predicted)*100))\n",
        "print (\"Classification Report \\n {}\".format(metrics.classification_report(y_test, y_predicted, labels=range(0,10))))\n",
        "ConfusionMatrixDisplay.from_estimator(nb,nb_X_train,y_train,display_labels = range(0,10),xticks_rotation='vertical')\n",
        "plt.show()"
      ],
      "metadata": {
        "colab": {
          "base_uri": "https://localhost:8080/",
          "height": 606
        },
        "id": "MKjvfhVUG8Qh",
        "outputId": "81637418-b54c-4d49-d6b1-7c449e0858d9"
      },
      "execution_count": null,
      "outputs": [
        {
          "output_type": "stream",
          "name": "stdout",
          "text": [
            "Accuracy = 83.65 %\n",
            "Classification Report \n",
            "               precision    recall  f1-score   support\n",
            "\n",
            "           0       0.92      0.93      0.93       980\n",
            "           1       0.91      0.93      0.92      1135\n",
            "           2       0.90      0.83      0.86      1032\n",
            "           3       0.80      0.84      0.82      1010\n",
            "           4       0.84      0.75      0.79       982\n",
            "           5       0.86      0.66      0.75       892\n",
            "           6       0.89      0.90      0.89       958\n",
            "           7       0.94      0.84      0.88      1028\n",
            "           8       0.66      0.80      0.72       974\n",
            "           9       0.71      0.86      0.78      1009\n",
            "\n",
            "    accuracy                           0.84     10000\n",
            "   macro avg       0.84      0.83      0.84     10000\n",
            "weighted avg       0.84      0.84      0.84     10000\n",
            "\n"
          ]
        },
        {
          "output_type": "display_data",
          "data": {
            "text/plain": [
              "<Figure size 432x288 with 2 Axes>"
            ],
            "image/png": "[encoded data removed]"
          },
          "metadata": {
            "needs_background": "light"
          }
        }
      ]
    },
    {
      "cell_type": "markdown",
      "source": [
        "# KNN"
      ],
      "metadata": {
        "id": "fY68wHr4mklx"
      }
    },
    {
      "cell_type": "code",
      "source": [
        "#from skmlm import NN_MLM\n",
        "import matplotlib.colors as mcolors\n",
        "# from sklearn.decomposition import PCA\n",
        "# from sklearn.metrics import confusion_matrix, ConfusionMatrixDisplay, classification_report, precision_score"
      ],
      "metadata": {
        "id": "4kHh7HULmtDl"
      },
      "execution_count": null,
      "outputs": []
    },
    {
      "cell_type": "markdown",
      "source": [
        "let's search for \"k\" using cross-validation"
      ],
      "metadata": {
        "id": "nXf7BunRoklx"
      }
    },
    {
      "cell_type": "markdown",
      "source": [
        "Feature scaling is essential for machine learning algorithms that calculate distances between data. If not scaled, the feature with a higher value range starts dominating when calculating distances. KNN which uses Euclidean distance is one such algorithm which essentially require scaling"
      ],
      "metadata": {
        "id": "dSfxrqpCK_rw"
      }
    },
    {
      "cell_type": "code",
      "source": [
        "pipe_knn = make_pipeline(MinMaxScaler(),KNeighborsClassifier(n_neighbors=1))\n",
        "grid_k = {'kneighborsclassifier__n_neighbors':[5,7]}\n",
        "cv = GridSearchCV(pipe_knn, param_grid = grid_k, scoring = 'precision_macro')\n",
        "cv.fit(nb_X_train, y_train)\n",
        "print(cv)"
      ],
      "metadata": {
        "colab": {
          "base_uri": "https://localhost:8080/"
        },
        "id": "7akF1slH98lo",
        "outputId": "d5171b34-a49b-4c24-8339-237a724f76c6"
      },
      "execution_count": null,
      "outputs": [
        {
          "output_type": "stream",
          "name": "stdout",
          "text": [
            "GridSearchCV(estimator=Pipeline(steps=[('minmaxscaler', MinMaxScaler()),\n",
            "                                       ('kneighborsclassifier',\n",
            "                                        KNeighborsClassifier(n_neighbors=1))]),\n",
            "             param_grid={'kneighborsclassifier__n_neighbors': [5, 7]},\n",
            "             scoring='precision_macro')\n"
          ]
        }
      ]
    },
    {
      "cell_type": "markdown",
      "source": [
        "the best value for k is 7"
      ],
      "metadata": {
        "id": "FbgrvJoYrnlh"
      }
    },
    {
      "cell_type": "code",
      "source": [
        "print(cv.cv_results_)"
      ],
      "metadata": {
        "colab": {
          "base_uri": "https://localhost:8080/"
        },
        "id": "hBER7vAhOb5B",
        "outputId": "0a6ee211-52c9-40ef-c5c3-159ce13df48f"
      },
      "execution_count": null,
      "outputs": [
        {
          "output_type": "stream",
          "name": "stdout",
          "text": [
            "{'mean_fit_time': array([0.46269207, 0.55474458]), 'std_fit_time': array([0.07695285, 0.28671053]), 'mean_score_time': array([31.00234585, 37.49131975]), 'std_score_time': array([3.58529571, 4.41267629]), 'param_kneighborsclassifier__n_neighbors': masked_array(data=[5, 7],\n",
            "             mask=[False, False],\n",
            "       fill_value='?',\n",
            "            dtype=object), 'params': [{'kneighborsclassifier__n_neighbors': 5}, {'kneighborsclassifier__n_neighbors': 7}], 'split0_test_score': array([0.97042919, 0.96898337]), 'split1_test_score': array([0.97045568, 0.97012068]), 'split2_test_score': array([0.96959808, 0.96683653]), 'split3_test_score': array([0.96840566, 0.96707616]), 'split4_test_score': array([0.96952252, 0.96889948]), 'mean_test_score': array([0.96968223, 0.96838324]), 'std_test_score': array([0.00075079, 0.00124468]), 'rank_test_score': array([1, 2], dtype=int32)}\n"
          ]
        }
      ]
    },
    {
      "cell_type": "code",
      "source": [
        "pipe_knn = make_pipeline(MinMaxScaler(),KNeighborsClassifier(n_neighbors=5))"
      ],
      "metadata": {
        "id": "TUupUPt7rb4M"
      },
      "execution_count": null,
      "outputs": []
    },
    {
      "cell_type": "markdown",
      "source": [
        "performance on test set"
      ],
      "metadata": {
        "id": "Hk_SM9hksExH"
      }
    },
    {
      "cell_type": "markdown",
      "source": [
        "## Multi-Class Classification"
      ],
      "metadata": {
        "id": "3tTR-8CVtKpw"
      }
    },
    {
      "cell_type": "code",
      "source": [
        "print(pipe_knn)"
      ],
      "metadata": {
        "colab": {
          "base_uri": "https://localhost:8080/"
        },
        "id": "dqTL-clYtKKR",
        "outputId": "39bf494c-cb4b-484f-ad62-dff4cd0e38ae"
      },
      "execution_count": null,
      "outputs": [
        {
          "output_type": "stream",
          "name": "stdout",
          "text": [
            "Pipeline(steps=[('minmaxscaler', MinMaxScaler()),\n",
            "                ('kneighborsclassifier', KNeighborsClassifier())])\n"
          ]
        }
      ]
    },
    {
      "cell_type": "code",
      "source": [
        "pipe_knn.fit(nb_X_train,y_train)\n",
        "y_hat = pipe_knn.predict(nb_X_test)\n",
        "ConfusionMatrixDisplay.from_predictions(y_test,y_hat)\n",
        "plt.show()"
      ],
      "metadata": {
        "colab": {
          "base_uri": "https://localhost:8080/",
          "height": 279
        },
        "id": "k7QtqrP4tVvc",
        "outputId": "7f0d50fc-9103-49da-9b00-d0788303345a"
      },
      "execution_count": null,
      "outputs": [
        {
          "output_type": "display_data",
          "data": {
            "text/plain": [
              "<Figure size 432x288 with 2 Axes>"
            ],
            "image/png": "[encoded data removed]"
          },
          "metadata": {
            "needs_background": "light"
          }
        }
      ]
    },
    {
      "cell_type": "code",
      "source": [
        "pipe_knn.classes_"
      ],
      "metadata": {
        "colab": {
          "base_uri": "https://localhost:8080/"
        },
        "id": "4kzW2TD4twL8",
        "outputId": "4dbbc99c-6cfd-47bd-df1c-c4ba985793e8"
      },
      "execution_count": null,
      "outputs": [
        {
          "output_type": "execute_result",
          "data": {
            "text/plain": [
              "array([0, 1, 2, 3, 4, 5, 6, 7, 8, 9], dtype=uint8)"
            ]
          },
          "metadata": {},
          "execution_count": 21
        }
      ]
    },
    {
      "cell_type": "code",
      "source": [
        "print(metrics.classification_report(y_test,y_hat))"
      ],
      "metadata": {
        "colab": {
          "base_uri": "https://localhost:8080/"
        },
        "id": "3YvQAsIhuJc3",
        "outputId": "1fde285a-4819-4b0e-be3a-df63f758426a"
      },
      "execution_count": null,
      "outputs": [
        {
          "output_type": "stream",
          "name": "stdout",
          "text": [
            "              precision    recall  f1-score   support\n",
            "\n",
            "           0       0.96      0.99      0.98       980\n",
            "           1       0.95      1.00      0.98      1135\n",
            "           2       0.98      0.96      0.97      1032\n",
            "           3       0.96      0.97      0.97      1010\n",
            "           4       0.98      0.96      0.97       982\n",
            "           5       0.97      0.97      0.97       892\n",
            "           6       0.98      0.99      0.98       958\n",
            "           7       0.96      0.96      0.96      1028\n",
            "           8       0.99      0.94      0.96       974\n",
            "           9       0.96      0.95      0.95      1009\n",
            "\n",
            "    accuracy                           0.97     10000\n",
            "   macro avg       0.97      0.97      0.97     10000\n",
            "weighted avg       0.97      0.97      0.97     10000\n",
            "\n"
          ]
        }
      ]
    },
    {
      "cell_type": "markdown",
      "source": [
        "# SVC"
      ],
      "metadata": {
        "id": "SlfvB7WkNZM_"
      }
    },
    {
      "cell_type": "code",
      "source": [
        "#Flatten to length 784\n",
        "svc_x_train=X_train[0:10000,:]\n",
        "svc_y_train=y_train[0:10000]\n",
        "svc_x_test=X_test[0:2000,:]\n",
        "svc_y_test=y_test[0:2000]\n",
        "svc_x_train=svc_x_train.reshape(svc_x_train.shape[0],28*28)\n",
        "svc_x_test=svc_x_test.reshape(svc_x_test.shape[0],28*28)\n",
        "#svc_x_train = X_train.flatten().reshape(60000,784)\n",
        "#svc_x_test = X_test.flatten().reshape(10000,784)\n",
        "#Normalizing\n",
        "#svc_x_train=X_train/255\n",
        "#svc_x_test=X_test/255\n",
        "# print(svc_x_train.shape)"
      ],
      "metadata": {
        "id": "4hrz6yfbZYrn",
        "colab": {
          "base_uri": "https://localhost:8080/"
        },
        "outputId": "d2abf46d-76a9-4272-c8a1-4e0ce0d060eb"
      },
      "execution_count": null,
      "outputs": [
        {
          "output_type": "stream",
          "name": "stdout",
          "text": [
            "(10000, 784)\n"
          ]
        }
      ]
    },
    {
      "cell_type": "code",
      "source": [
        "pipe_1 = Pipeline([('scaler', MinMaxScaler()),(\"classifier\",SVC(kernel = 'rbf',gamma=0.1, C = 1))])\n",
        "pipe_1.fit(svc_x_train, svc_y_train.ravel())\n",
        "\n",
        "acc = cross_val_score(pipe_1, svc_x_train,svc_y_train.ravel(),cv=2)\n",
        "print(\"Training accuracy: {:.2f} %\".format(acc.mean()*100))"
      ],
      "metadata": {
        "id": "bYWGqZzNNb3f",
        "colab": {
          "base_uri": "https://localhost:8080/"
        },
        "outputId": "38f58f1c-7485-4882-a119-adf3e3657255"
      },
      "execution_count": null,
      "outputs": [
        {
          "output_type": "stream",
          "name": "stdout",
          "text": [
            "Training accuracy: 82.68 %\n"
          ]
        }
      ]
    },
    {
      "cell_type": "code",
      "source": [
        "y_pred=pipe_1.predict(svc_x_test)\n",
        "ConfusionMatrixDisplay.from_predictions(svc_y_test,y_pred)\n",
        "plt.show()\n"
      ],
      "metadata": {
        "id": "yMymRu_oVlki",
        "colab": {
          "base_uri": "https://localhost:8080/",
          "height": 279
        },
        "outputId": "c117ebcc-8482-4192-c6c7-15f2c32bc505"
      },
      "execution_count": null,
      "outputs": [
        {
          "output_type": "display_data",
          "data": {
            "text/plain": [
              "<Figure size 432x288 with 2 Axes>"
            ],
            "image/png": "[encoded data removed]"
          },
          "metadata": {
            "needs_background": "light"
          }
        }
      ]
    },
    {
      "cell_type": "code",
      "source": [
        "print(metrics.classification_report(svc_y_test,y_pred))"
      ],
      "metadata": {
        "id": "Vwwb_tRzW56Z",
        "colab": {
          "base_uri": "https://localhost:8080/"
        },
        "outputId": "89673939-b851-4a4f-c180-82b40f75ae20"
      },
      "execution_count": null,
      "outputs": [
        {
          "output_type": "stream",
          "name": "stdout",
          "text": [
            "              precision    recall  f1-score   support\n",
            "\n",
            "           0       0.99      0.89      0.94       175\n",
            "           1       0.99      0.98      0.98       234\n",
            "           2       0.46      0.99      0.63       219\n",
            "           3       0.93      0.89      0.91       207\n",
            "           4       0.95      0.82      0.88       217\n",
            "           5       0.98      0.78      0.87       179\n",
            "           6       0.99      0.72      0.84       178\n",
            "           7       0.96      0.78      0.86       205\n",
            "           8       0.95      0.74      0.84       192\n",
            "           9       0.95      0.84      0.89       194\n",
            "\n",
            "    accuracy                           0.85      2000\n",
            "   macro avg       0.92      0.84      0.86      2000\n",
            "weighted avg       0.91      0.85      0.86      2000\n",
            "\n"
          ]
        }
      ]
    },
    {
      "cell_type": "markdown",
      "source": [
        "# Decision Tree and Random Forest Classifier"
      ],
      "metadata": {
        "id": "AbVwH25Bw6S4"
      }
    },
    {
      "cell_type": "code",
      "source": [
        "from sklearn.ensemble import RandomForestClassifier\n",
        "from sklearn.tree import DecisionTreeClassifier\n",
        "from sklearn.metrics import confusion_matrix, classification_report\n",
        "from sklearn.model_selection import train_test_split , cross_validate , cross_val_score,ShuffleSplit\n",
        "# (X_train,y_train), (X_test,y_test) = mnist.load_data()\n",
        "X_train = X_train.reshape(X_train.shape[0],28*28)\n",
        "X_test = X_test.reshape(X_test.shape[0],28*28)\n",
        "X_train = X_train/255\n",
        "X_test = X_test/255\n",
        "# print(X_train.shape)\n",
        "# print(X_test.shape)\n",
        "cv = ShuffleSplit(n_splits=10, test_size =0.2,random_state=42)\n",
        "def train_classifiers(estimator , x_train,y_train,cv,name):\n",
        "  estimator.fit(X_train,y_train)\n",
        "  cv_train_score = cross_val_score(estimator , X_train,y_train,cv=cv,scoring='precision_macro',n_jobs=5)\n",
        "  print(f\"On an average,{name} model has (f1) precision score of \"f\"{cv_train_score.mean():.3f} +/- {cv_train_score.std():.3f} on the target\")\n"
      ],
      "metadata": {
        "id": "PYUlzgYurNp3",
        "colab": {
          "base_uri": "https://localhost:8080/"
        },
        "outputId": "26b454e6-177f-49f0-be1f-236e36779790"
      },
      "execution_count": 4,
      "outputs": [
        {
          "output_type": "stream",
          "name": "stdout",
          "text": [
            "(60000, 784)\n",
            "(10000, 784)\n"
          ]
        }
      ]
    },
    {
      "cell_type": "code",
      "source": [
        "def eval(estimator,x_test,y_test):\n",
        "  y_pred = estimator.predict(X_test)\n",
        "  print(\"# Classification Report\")\n",
        "  print(classification_report(y_test,y_pred))\n",
        "  print(\"# Confusion Matrix\")\n",
        "  disp = ConfusionMatrixDisplay(confusion_matrix=confusion_matrix(y_test,y_pred))\n",
        "  disp.plot()\n",
        "  plt.title('Confusion Matrix')\n",
        "  plt.show()"
      ],
      "metadata": {
        "id": "l5fpAkLZrsa-"
      },
      "execution_count": 5,
      "outputs": []
    },
    {
      "cell_type": "code",
      "source": [
        "decision_tree_pipeline = Pipeline([(\"classifier\",DecisionTreeClassifier())])\n",
        "train_classifiers(decision_tree_pipeline,X_train,y_train.ravel(),cv,\"Decision Tree\")"
      ],
      "metadata": {
        "colab": {
          "base_uri": "https://localhost:8080/"
        },
        "id": "7pEY7rfZr1su",
        "outputId": "65e2920b-5cbe-46a6-d5f9-9b11aab7a633"
      },
      "execution_count": 6,
      "outputs": [
        {
          "output_type": "stream",
          "name": "stdout",
          "text": [
            "On an average,Decision Tree model has (f1) precision score of 0.868 +/- 0.004 on the target\n"
          ]
        }
      ]
    },
    {
      "cell_type": "code",
      "source": [
        "eval(decision_tree_pipeline,X_test,y_test)"
      ],
      "metadata": {
        "colab": {
          "base_uri": "https://localhost:8080/",
          "height": 625
        },
        "id": "a_rpj-kwr2ya",
        "outputId": "95a37608-e545-4d16-f2dc-e98863a8b5fb"
      },
      "execution_count": 7,
      "outputs": [
        {
          "output_type": "stream",
          "name": "stdout",
          "text": [
            "# Classification Report\n",
            "              precision    recall  f1-score   support\n",
            "\n",
            "           0       0.92      0.93      0.93       980\n",
            "           1       0.95      0.96      0.95      1135\n",
            "           2       0.86      0.85      0.86      1032\n",
            "           3       0.83      0.85      0.84      1010\n",
            "           4       0.87      0.87      0.87       982\n",
            "           5       0.84      0.84      0.84       892\n",
            "           6       0.88      0.87      0.88       958\n",
            "           7       0.92      0.90      0.91      1028\n",
            "           8       0.82      0.80      0.81       974\n",
            "           9       0.84      0.86      0.85      1009\n",
            "\n",
            "    accuracy                           0.88     10000\n",
            "   macro avg       0.87      0.87      0.87     10000\n",
            "weighted avg       0.88      0.88      0.88     10000\n",
            "\n",
            "# Confusion Matrix\n"
          ]
        },
        {
          "output_type": "display_data",
          "data": {
            "text/plain": [
              "<Figure size 432x288 with 2 Axes>"
            ],
            "image/png": "[encoded data removed]"
          },
          "metadata": {
            "needs_background": "light"
          }
        }
      ]
    },
    {
      "cell_type": "code",
      "source": [
        "randomforest_pipeline = Pipeline([(\"classifier\",RandomForestClassifier())])\n",
        "train_classifiers(randomforest_pipeline,X_train,y_train.ravel(),cv,\"Random Forest Classifier\")"
      ],
      "metadata": {
        "colab": {
          "base_uri": "https://localhost:8080/"
        },
        "id": "qTIgoDlmr68l",
        "outputId": "68cad352-0dc3-4683-8d52-790d1bf3c4d9"
      },
      "execution_count": 8,
      "outputs": [
        {
          "output_type": "stream",
          "name": "stdout",
          "text": [
            "On an average,Random Forest Classifier model has (f1) precision score of 0.967 +/- 0.001 on the target\n"
          ]
        }
      ]
    },
    {
      "cell_type": "code",
      "source": [
        "eval(randomforest_pipeline,X_test,y_test)"
      ],
      "metadata": {
        "colab": {
          "base_uri": "https://localhost:8080/",
          "height": 625
        },
        "id": "w2Vq60XFsMUm",
        "outputId": "ba2e69b8-5031-4eca-891a-f5c8167ec550"
      },
      "execution_count": 9,
      "outputs": [
        {
          "output_type": "stream",
          "name": "stdout",
          "text": [
            "# Classification Report\n",
            "              precision    recall  f1-score   support\n",
            "\n",
            "           0       0.97      0.99      0.98       980\n",
            "           1       0.99      0.99      0.99      1135\n",
            "           2       0.96      0.97      0.96      1032\n",
            "           3       0.96      0.97      0.97      1010\n",
            "           4       0.97      0.97      0.97       982\n",
            "           5       0.98      0.96      0.97       892\n",
            "           6       0.97      0.98      0.98       958\n",
            "           7       0.97      0.96      0.97      1028\n",
            "           8       0.96      0.95      0.96       974\n",
            "           9       0.95      0.95      0.95      1009\n",
            "\n",
            "    accuracy                           0.97     10000\n",
            "   macro avg       0.97      0.97      0.97     10000\n",
            "weighted avg       0.97      0.97      0.97     10000\n",
            "\n",
            "# Confusion Matrix\n"
          ]
        },
        {
          "output_type": "display_data",
          "data": {
            "text/plain": [
              "<Figure size 432x288 with 2 Axes>"
            ],
            "image/png": "[encoded data removed]"
          },
          "metadata": {
            "needs_background": "light"
          }
        }
      ]
    }
  ]
}